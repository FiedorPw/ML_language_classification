{
 "cells": [
  {
   "cell_type": "code",
   "id": "initial_id",
   "metadata": {
    "collapsed": true,
    "ExecuteTime": {
     "end_time": "2025-01-13T12:22:11.248680Z",
     "start_time": "2025-01-13T12:22:11.243835Z"
    }
   },
   "source": [
    "import numpy as np\n",
    "import pandas as pd\n",
    "import matplotlib.pyplot as plt\n",
    "from transform_data import read_arrays"
   ],
   "outputs": [],
   "execution_count": 3
  },
  {
   "metadata": {
    "ExecuteTime": {
     "end_time": "2025-01-13T12:38:06.975638Z",
     "start_time": "2025-01-13T12:38:06.964094Z"
    }
   },
   "cell_type": "code",
   "source": [
    "latver, symk, dwak = read_arrays()\n",
    "# usunięcie X z początku\n",
    "latver = latver[1:]\n",
    "symk = symk[1:]\n",
    "dwak = dwak[1:]\n",
    "# to dataframe\n",
    "latver_df = pd.DataFrame(latver)\n",
    "latver_letter_counts = latver_df.value_counts().sort_index()\n",
    "latver_letter_counts"
   ],
   "id": "7314e4a71ab1d861",
   "outputs": [
    {
     "data": {
      "text/plain": [
       "0\n",
       "A    196\n",
       "B    244\n",
       "C    132\n",
       "D    116\n",
       "E     94\n",
       "F    218\n",
       "Name: count, dtype: int64"
      ]
     },
     "execution_count": 16,
     "metadata": {},
     "output_type": "execute_result"
    }
   ],
   "execution_count": 16
  },
  {
   "metadata": {
    "ExecuteTime": {
     "end_time": "2025-01-13T13:06:55.793656Z",
     "start_time": "2025-01-13T13:06:55.784192Z"
    }
   },
   "cell_type": "code",
   "source": [
    "symk = pd.DataFrame(symk)\n",
    "symk_letter_counts = symk.value_counts().sort_index()\n",
    "symk_letter_counts\n"
   ],
   "id": "54021afdaf2a80e7",
   "outputs": [
    {
     "data": {
      "text/plain": [
       "0\n",
       "A    340\n",
       "B     49\n",
       "C    240\n",
       "D    101\n",
       "E     57\n",
       "F    213\n",
       "Name: count, dtype: int64"
      ]
     },
     "execution_count": 17,
     "metadata": {},
     "output_type": "execute_result"
    }
   ],
   "execution_count": 17
  },
  {
   "metadata": {
    "ExecuteTime": {
     "end_time": "2025-01-13T12:30:10.681750Z",
     "start_time": "2025-01-13T12:30:10.674657Z"
    }
   },
   "cell_type": "code",
   "source": [
    "pd.DataFrame(dwak)\n",
    "dwak_letter_counts = dwak.value_counts().sort_index()\n",
    "dwak_letter_counts"
   ],
   "id": "ae8a9cca0d7207fa",
   "outputs": [
    {
     "data": {
      "text/plain": [
       "      0\n",
       "0     B\n",
       "1     A\n",
       "2     C\n",
       "3     E\n",
       "4     A\n",
       "...  ..\n",
       "9995  C\n",
       "9996  E\n",
       "9997  D\n",
       "9998  A\n",
       "9999  A\n",
       "\n",
       "[10000 rows x 1 columns]"
      ],
      "text/html": [
       "<div>\n",
       "<style scoped>\n",
       "    .dataframe tbody tr th:only-of-type {\n",
       "        vertical-align: middle;\n",
       "    }\n",
       "\n",
       "    .dataframe tbody tr th {\n",
       "        vertical-align: top;\n",
       "    }\n",
       "\n",
       "    .dataframe thead th {\n",
       "        text-align: right;\n",
       "    }\n",
       "</style>\n",
       "<table border=\"1\" class=\"dataframe\">\n",
       "  <thead>\n",
       "    <tr style=\"text-align: right;\">\n",
       "      <th></th>\n",
       "      <th>0</th>\n",
       "    </tr>\n",
       "  </thead>\n",
       "  <tbody>\n",
       "    <tr>\n",
       "      <th>0</th>\n",
       "      <td>B</td>\n",
       "    </tr>\n",
       "    <tr>\n",
       "      <th>1</th>\n",
       "      <td>A</td>\n",
       "    </tr>\n",
       "    <tr>\n",
       "      <th>2</th>\n",
       "      <td>C</td>\n",
       "    </tr>\n",
       "    <tr>\n",
       "      <th>3</th>\n",
       "      <td>E</td>\n",
       "    </tr>\n",
       "    <tr>\n",
       "      <th>4</th>\n",
       "      <td>A</td>\n",
       "    </tr>\n",
       "    <tr>\n",
       "      <th>...</th>\n",
       "      <td>...</td>\n",
       "    </tr>\n",
       "    <tr>\n",
       "      <th>9995</th>\n",
       "      <td>C</td>\n",
       "    </tr>\n",
       "    <tr>\n",
       "      <th>9996</th>\n",
       "      <td>E</td>\n",
       "    </tr>\n",
       "    <tr>\n",
       "      <th>9997</th>\n",
       "      <td>D</td>\n",
       "    </tr>\n",
       "    <tr>\n",
       "      <th>9998</th>\n",
       "      <td>A</td>\n",
       "    </tr>\n",
       "    <tr>\n",
       "      <th>9999</th>\n",
       "      <td>A</td>\n",
       "    </tr>\n",
       "  </tbody>\n",
       "</table>\n",
       "<p>10000 rows × 1 columns</p>\n",
       "</div>"
      ]
     },
     "execution_count": 11,
     "metadata": {},
     "output_type": "execute_result"
    }
   ],
   "execution_count": 11
  }
 ],
 "metadata": {
  "kernelspec": {
   "display_name": "Python 3",
   "language": "python",
   "name": "python3"
  },
  "language_info": {
   "codemirror_mode": {
    "name": "ipython",
    "version": 2
   },
   "file_extension": ".py",
   "mimetype": "text/x-python",
   "name": "python",
   "nbconvert_exporter": "python",
   "pygments_lexer": "ipython2",
   "version": "2.7.6"
  }
 },
 "nbformat": 4,
 "nbformat_minor": 5
}
